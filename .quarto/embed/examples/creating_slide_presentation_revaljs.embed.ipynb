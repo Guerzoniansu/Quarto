{
  "cells": [
    {
      "cell_type": "markdown",
      "metadata": {},
      "source": [
        "# My document\n",
        "\n",
        "Guerzoniansu\n",
        "\n",
        "## Getting up\n",
        "\n",
        "-   Turn off alarm\n",
        "-   Get out of bed\n",
        "\n",
        "## Going to sleep\n",
        "\n",
        "-   Get in bed\n",
        "-   Count sheep"
      ],
      "id": "cac4a445-ea8d-4f34-86ab-f22a7c2940bc"
    }
  ],
  "nbformat": 4,
  "nbformat_minor": 5,
  "metadata": {
    "kernelspec": {
      "display_name": "Python 3",
      "language": "python",
      "name": "python3"
    }
  }
}